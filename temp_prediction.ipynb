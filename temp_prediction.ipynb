{
 "cells": [
  {
   "cell_type": "code",
   "execution_count": 1,
   "metadata": {
    "collapsed": true
   },
   "outputs": [],
   "source": [
    "import pandas as pd\n",
    "import numpy as np"
   ]
  },
  {
   "cell_type": "code",
   "execution_count": 2,
   "metadata": {},
   "outputs": [
    {
     "name": "stderr",
     "output_type": "stream",
     "text": [
      "C:\\Users\\KOUSHIK\\Anaconda3\\lib\\site-packages\\IPython\\core\\interactiveshell.py:2698: DtypeWarning: Columns (47) have mixed types. Specify dtype option on import or set low_memory=False.\n",
      "  interactivity=interactivity, compiler=compiler, result=result)\n"
     ]
    }
   ],
   "source": [
    "df = pd.read_csv('bottle.csv')"
   ]
  },
  {
   "cell_type": "code",
   "execution_count": 3,
   "metadata": {},
   "outputs": [
    {
     "data": {
      "text/html": [
       "<div>\n",
       "<style>\n",
       "    .dataframe thead tr:only-child th {\n",
       "        text-align: right;\n",
       "    }\n",
       "\n",
       "    .dataframe thead th {\n",
       "        text-align: left;\n",
       "    }\n",
       "\n",
       "    .dataframe tbody tr th {\n",
       "        vertical-align: top;\n",
       "    }\n",
       "</style>\n",
       "<table border=\"1\" class=\"dataframe\">\n",
       "  <thead>\n",
       "    <tr style=\"text-align: right;\">\n",
       "      <th></th>\n",
       "      <th>Cst_Cnt</th>\n",
       "      <th>Btl_Cnt</th>\n",
       "      <th>Sta_ID</th>\n",
       "      <th>Depth_ID</th>\n",
       "      <th>Depthm</th>\n",
       "      <th>T_degC</th>\n",
       "      <th>Salnty</th>\n",
       "      <th>O2ml_L</th>\n",
       "      <th>STheta</th>\n",
       "      <th>O2Sat</th>\n",
       "      <th>...</th>\n",
       "      <th>R_CHLA</th>\n",
       "      <th>R_PHAEO</th>\n",
       "      <th>R_PRES</th>\n",
       "      <th>R_SAMP</th>\n",
       "      <th>DIC1</th>\n",
       "      <th>DIC2</th>\n",
       "      <th>TA1</th>\n",
       "      <th>TA2</th>\n",
       "      <th>pH2</th>\n",
       "      <th>pH1</th>\n",
       "    </tr>\n",
       "  </thead>\n",
       "  <tbody>\n",
       "    <tr>\n",
       "      <th>0</th>\n",
       "      <td>1</td>\n",
       "      <td>1</td>\n",
       "      <td>054.0 056.0</td>\n",
       "      <td>19-4903CR-HY-060-0930-05400560-0000A-3</td>\n",
       "      <td>0</td>\n",
       "      <td>10.50</td>\n",
       "      <td>33.440</td>\n",
       "      <td>NaN</td>\n",
       "      <td>25.649</td>\n",
       "      <td>NaN</td>\n",
       "      <td>...</td>\n",
       "      <td>NaN</td>\n",
       "      <td>NaN</td>\n",
       "      <td>0</td>\n",
       "      <td>NaN</td>\n",
       "      <td>NaN</td>\n",
       "      <td>NaN</td>\n",
       "      <td>NaN</td>\n",
       "      <td>NaN</td>\n",
       "      <td>NaN</td>\n",
       "      <td>NaN</td>\n",
       "    </tr>\n",
       "    <tr>\n",
       "      <th>1</th>\n",
       "      <td>1</td>\n",
       "      <td>2</td>\n",
       "      <td>054.0 056.0</td>\n",
       "      <td>19-4903CR-HY-060-0930-05400560-0008A-3</td>\n",
       "      <td>8</td>\n",
       "      <td>10.46</td>\n",
       "      <td>33.440</td>\n",
       "      <td>NaN</td>\n",
       "      <td>25.656</td>\n",
       "      <td>NaN</td>\n",
       "      <td>...</td>\n",
       "      <td>NaN</td>\n",
       "      <td>NaN</td>\n",
       "      <td>8</td>\n",
       "      <td>NaN</td>\n",
       "      <td>NaN</td>\n",
       "      <td>NaN</td>\n",
       "      <td>NaN</td>\n",
       "      <td>NaN</td>\n",
       "      <td>NaN</td>\n",
       "      <td>NaN</td>\n",
       "    </tr>\n",
       "    <tr>\n",
       "      <th>2</th>\n",
       "      <td>1</td>\n",
       "      <td>3</td>\n",
       "      <td>054.0 056.0</td>\n",
       "      <td>19-4903CR-HY-060-0930-05400560-0010A-7</td>\n",
       "      <td>10</td>\n",
       "      <td>10.46</td>\n",
       "      <td>33.437</td>\n",
       "      <td>NaN</td>\n",
       "      <td>25.654</td>\n",
       "      <td>NaN</td>\n",
       "      <td>...</td>\n",
       "      <td>NaN</td>\n",
       "      <td>NaN</td>\n",
       "      <td>10</td>\n",
       "      <td>NaN</td>\n",
       "      <td>NaN</td>\n",
       "      <td>NaN</td>\n",
       "      <td>NaN</td>\n",
       "      <td>NaN</td>\n",
       "      <td>NaN</td>\n",
       "      <td>NaN</td>\n",
       "    </tr>\n",
       "    <tr>\n",
       "      <th>3</th>\n",
       "      <td>1</td>\n",
       "      <td>4</td>\n",
       "      <td>054.0 056.0</td>\n",
       "      <td>19-4903CR-HY-060-0930-05400560-0019A-3</td>\n",
       "      <td>19</td>\n",
       "      <td>10.45</td>\n",
       "      <td>33.420</td>\n",
       "      <td>NaN</td>\n",
       "      <td>25.643</td>\n",
       "      <td>NaN</td>\n",
       "      <td>...</td>\n",
       "      <td>NaN</td>\n",
       "      <td>NaN</td>\n",
       "      <td>19</td>\n",
       "      <td>NaN</td>\n",
       "      <td>NaN</td>\n",
       "      <td>NaN</td>\n",
       "      <td>NaN</td>\n",
       "      <td>NaN</td>\n",
       "      <td>NaN</td>\n",
       "      <td>NaN</td>\n",
       "    </tr>\n",
       "    <tr>\n",
       "      <th>4</th>\n",
       "      <td>1</td>\n",
       "      <td>5</td>\n",
       "      <td>054.0 056.0</td>\n",
       "      <td>19-4903CR-HY-060-0930-05400560-0020A-7</td>\n",
       "      <td>20</td>\n",
       "      <td>10.45</td>\n",
       "      <td>33.421</td>\n",
       "      <td>NaN</td>\n",
       "      <td>25.643</td>\n",
       "      <td>NaN</td>\n",
       "      <td>...</td>\n",
       "      <td>NaN</td>\n",
       "      <td>NaN</td>\n",
       "      <td>20</td>\n",
       "      <td>NaN</td>\n",
       "      <td>NaN</td>\n",
       "      <td>NaN</td>\n",
       "      <td>NaN</td>\n",
       "      <td>NaN</td>\n",
       "      <td>NaN</td>\n",
       "      <td>NaN</td>\n",
       "    </tr>\n",
       "  </tbody>\n",
       "</table>\n",
       "<p>5 rows × 73 columns</p>\n",
       "</div>"
      ],
      "text/plain": [
       "   Cst_Cnt  Btl_Cnt       Sta_ID                                Depth_ID  \\\n",
       "0        1        1  054.0 056.0  19-4903CR-HY-060-0930-05400560-0000A-3   \n",
       "1        1        2  054.0 056.0  19-4903CR-HY-060-0930-05400560-0008A-3   \n",
       "2        1        3  054.0 056.0  19-4903CR-HY-060-0930-05400560-0010A-7   \n",
       "3        1        4  054.0 056.0  19-4903CR-HY-060-0930-05400560-0019A-3   \n",
       "4        1        5  054.0 056.0  19-4903CR-HY-060-0930-05400560-0020A-7   \n",
       "\n",
       "   Depthm  T_degC  Salnty  O2ml_L  STheta  O2Sat ...   R_CHLA  R_PHAEO  \\\n",
       "0       0   10.50  33.440     NaN  25.649    NaN ...      NaN      NaN   \n",
       "1       8   10.46  33.440     NaN  25.656    NaN ...      NaN      NaN   \n",
       "2      10   10.46  33.437     NaN  25.654    NaN ...      NaN      NaN   \n",
       "3      19   10.45  33.420     NaN  25.643    NaN ...      NaN      NaN   \n",
       "4      20   10.45  33.421     NaN  25.643    NaN ...      NaN      NaN   \n",
       "\n",
       "   R_PRES  R_SAMP  DIC1  DIC2  TA1  TA2  pH2  pH1  \n",
       "0       0     NaN   NaN   NaN  NaN  NaN  NaN  NaN  \n",
       "1       8     NaN   NaN   NaN  NaN  NaN  NaN  NaN  \n",
       "2      10     NaN   NaN   NaN  NaN  NaN  NaN  NaN  \n",
       "3      19     NaN   NaN   NaN  NaN  NaN  NaN  NaN  \n",
       "4      20     NaN   NaN   NaN  NaN  NaN  NaN  NaN  \n",
       "\n",
       "[5 rows x 73 columns]"
      ]
     },
     "execution_count": 3,
     "metadata": {},
     "output_type": "execute_result"
    }
   ],
   "source": [
    "df.head()"
   ]
  },
  {
   "cell_type": "code",
   "execution_count": 4,
   "metadata": {},
   "outputs": [
    {
     "data": {
      "text/plain": [
       "(864863, 73)"
      ]
     },
     "execution_count": 4,
     "metadata": {},
     "output_type": "execute_result"
    }
   ],
   "source": [
    "df.shape"
   ]
  },
  {
   "cell_type": "code",
   "execution_count": 5,
   "metadata": {
    "collapsed": true
   },
   "outputs": [],
   "source": [
    "df1 = df.corr().abs()"
   ]
  },
  {
   "cell_type": "code",
   "execution_count": 6,
   "metadata": {},
   "outputs": [
    {
     "data": {
      "text/html": [
       "<div>\n",
       "<style>\n",
       "    .dataframe thead tr:only-child th {\n",
       "        text-align: right;\n",
       "    }\n",
       "\n",
       "    .dataframe thead th {\n",
       "        text-align: left;\n",
       "    }\n",
       "\n",
       "    .dataframe tbody tr th {\n",
       "        vertical-align: top;\n",
       "    }\n",
       "</style>\n",
       "<table border=\"1\" class=\"dataframe\">\n",
       "  <thead>\n",
       "    <tr style=\"text-align: right;\">\n",
       "      <th></th>\n",
       "      <th>Cst_Cnt</th>\n",
       "      <th>Btl_Cnt</th>\n",
       "      <th>Depthm</th>\n",
       "      <th>T_degC</th>\n",
       "      <th>Salnty</th>\n",
       "      <th>O2ml_L</th>\n",
       "      <th>STheta</th>\n",
       "      <th>O2Sat</th>\n",
       "      <th>Oxy_µmol/Kg</th>\n",
       "      <th>BtlNum</th>\n",
       "      <th>...</th>\n",
       "      <th>R_CHLA</th>\n",
       "      <th>R_PHAEO</th>\n",
       "      <th>R_PRES</th>\n",
       "      <th>R_SAMP</th>\n",
       "      <th>DIC1</th>\n",
       "      <th>DIC2</th>\n",
       "      <th>TA1</th>\n",
       "      <th>TA2</th>\n",
       "      <th>pH2</th>\n",
       "      <th>pH1</th>\n",
       "    </tr>\n",
       "  </thead>\n",
       "  <tbody>\n",
       "    <tr>\n",
       "      <th>Cst_Cnt</th>\n",
       "      <td>1.000000</td>\n",
       "      <td>0.999345</td>\n",
       "      <td>0.162222</td>\n",
       "      <td>0.089329</td>\n",
       "      <td>0.198024</td>\n",
       "      <td>0.156096</td>\n",
       "      <td>0.089902</td>\n",
       "      <td>0.136510</td>\n",
       "      <td>0.147493</td>\n",
       "      <td>0.026749</td>\n",
       "      <td>...</td>\n",
       "      <td>0.005807</td>\n",
       "      <td>0.040576</td>\n",
       "      <td>0.161961</td>\n",
       "      <td>0.604945</td>\n",
       "      <td>0.036155</td>\n",
       "      <td>0.097938</td>\n",
       "      <td>0.075060</td>\n",
       "      <td>0.115212</td>\n",
       "      <td>0.262587</td>\n",
       "      <td>0.020778</td>\n",
       "    </tr>\n",
       "    <tr>\n",
       "      <th>Btl_Cnt</th>\n",
       "      <td>0.999345</td>\n",
       "      <td>1.000000</td>\n",
       "      <td>0.161617</td>\n",
       "      <td>0.090118</td>\n",
       "      <td>0.195207</td>\n",
       "      <td>0.154219</td>\n",
       "      <td>0.089521</td>\n",
       "      <td>0.134732</td>\n",
       "      <td>0.145498</td>\n",
       "      <td>0.027514</td>\n",
       "      <td>...</td>\n",
       "      <td>0.009648</td>\n",
       "      <td>0.035778</td>\n",
       "      <td>0.161348</td>\n",
       "      <td>0.595142</td>\n",
       "      <td>0.035516</td>\n",
       "      <td>0.097251</td>\n",
       "      <td>0.074255</td>\n",
       "      <td>0.114165</td>\n",
       "      <td>0.259082</td>\n",
       "      <td>0.020315</td>\n",
       "    </tr>\n",
       "    <tr>\n",
       "      <th>Depthm</th>\n",
       "      <td>0.162222</td>\n",
       "      <td>0.161617</td>\n",
       "      <td>1.000000</td>\n",
       "      <td>0.681201</td>\n",
       "      <td>0.572630</td>\n",
       "      <td>0.592399</td>\n",
       "      <td>0.582710</td>\n",
       "      <td>0.595547</td>\n",
       "      <td>0.589175</td>\n",
       "      <td>0.681935</td>\n",
       "      <td>...</td>\n",
       "      <td>0.279636</td>\n",
       "      <td>0.201450</td>\n",
       "      <td>0.999994</td>\n",
       "      <td>0.018605</td>\n",
       "      <td>0.567855</td>\n",
       "      <td>0.572374</td>\n",
       "      <td>0.786873</td>\n",
       "      <td>0.866185</td>\n",
       "      <td>0.223304</td>\n",
       "      <td>0.611798</td>\n",
       "    </tr>\n",
       "    <tr>\n",
       "      <th>T_degC</th>\n",
       "      <td>0.089329</td>\n",
       "      <td>0.090118</td>\n",
       "      <td>0.681201</td>\n",
       "      <td>1.000000</td>\n",
       "      <td>0.505266</td>\n",
       "      <td>0.795700</td>\n",
       "      <td>0.829155</td>\n",
       "      <td>0.850596</td>\n",
       "      <td>0.795543</td>\n",
       "      <td>0.750413</td>\n",
       "      <td>...</td>\n",
       "      <td>0.108925</td>\n",
       "      <td>0.014987</td>\n",
       "      <td>0.679852</td>\n",
       "      <td>0.006503</td>\n",
       "      <td>0.936239</td>\n",
       "      <td>0.949972</td>\n",
       "      <td>0.742196</td>\n",
       "      <td>0.889635</td>\n",
       "      <td>0.547436</td>\n",
       "      <td>0.743735</td>\n",
       "    </tr>\n",
       "    <tr>\n",
       "      <th>Salnty</th>\n",
       "      <td>0.198024</td>\n",
       "      <td>0.195207</td>\n",
       "      <td>0.572630</td>\n",
       "      <td>0.505266</td>\n",
       "      <td>1.000000</td>\n",
       "      <td>0.823870</td>\n",
       "      <td>0.603470</td>\n",
       "      <td>0.790231</td>\n",
       "      <td>0.824338</td>\n",
       "      <td>0.693341</td>\n",
       "      <td>...</td>\n",
       "      <td>0.029373</td>\n",
       "      <td>0.003063</td>\n",
       "      <td>0.571405</td>\n",
       "      <td>0.000758</td>\n",
       "      <td>0.938153</td>\n",
       "      <td>0.955942</td>\n",
       "      <td>0.895124</td>\n",
       "      <td>0.937147</td>\n",
       "      <td>0.583807</td>\n",
       "      <td>0.106417</td>\n",
       "    </tr>\n",
       "  </tbody>\n",
       "</table>\n",
       "<p>5 rows × 70 columns</p>\n",
       "</div>"
      ],
      "text/plain": [
       "          Cst_Cnt   Btl_Cnt    Depthm    T_degC    Salnty    O2ml_L    STheta  \\\n",
       "Cst_Cnt  1.000000  0.999345  0.162222  0.089329  0.198024  0.156096  0.089902   \n",
       "Btl_Cnt  0.999345  1.000000  0.161617  0.090118  0.195207  0.154219  0.089521   \n",
       "Depthm   0.162222  0.161617  1.000000  0.681201  0.572630  0.592399  0.582710   \n",
       "T_degC   0.089329  0.090118  0.681201  1.000000  0.505266  0.795700  0.829155   \n",
       "Salnty   0.198024  0.195207  0.572630  0.505266  1.000000  0.823870  0.603470   \n",
       "\n",
       "            O2Sat  Oxy_µmol/Kg    BtlNum    ...       R_CHLA   R_PHAEO  \\\n",
       "Cst_Cnt  0.136510     0.147493  0.026749    ...     0.005807  0.040576   \n",
       "Btl_Cnt  0.134732     0.145498  0.027514    ...     0.009648  0.035778   \n",
       "Depthm   0.595547     0.589175  0.681935    ...     0.279636  0.201450   \n",
       "T_degC   0.850596     0.795543  0.750413    ...     0.108925  0.014987   \n",
       "Salnty   0.790231     0.824338  0.693341    ...     0.029373  0.003063   \n",
       "\n",
       "           R_PRES    R_SAMP      DIC1      DIC2       TA1       TA2       pH2  \\\n",
       "Cst_Cnt  0.161961  0.604945  0.036155  0.097938  0.075060  0.115212  0.262587   \n",
       "Btl_Cnt  0.161348  0.595142  0.035516  0.097251  0.074255  0.114165  0.259082   \n",
       "Depthm   0.999994  0.018605  0.567855  0.572374  0.786873  0.866185  0.223304   \n",
       "T_degC   0.679852  0.006503  0.936239  0.949972  0.742196  0.889635  0.547436   \n",
       "Salnty   0.571405  0.000758  0.938153  0.955942  0.895124  0.937147  0.583807   \n",
       "\n",
       "              pH1  \n",
       "Cst_Cnt  0.020778  \n",
       "Btl_Cnt  0.020315  \n",
       "Depthm   0.611798  \n",
       "T_degC   0.743735  \n",
       "Salnty   0.106417  \n",
       "\n",
       "[5 rows x 70 columns]"
      ]
     },
     "execution_count": 6,
     "metadata": {},
     "output_type": "execute_result"
    }
   ],
   "source": [
    "df1.head()"
   ]
  },
  {
   "cell_type": "code",
   "execution_count": 7,
   "metadata": {
    "collapsed": true
   },
   "outputs": [],
   "source": [
    "df2 = df1[df1 >= 0.5]"
   ]
  },
  {
   "cell_type": "code",
   "execution_count": 35,
   "metadata": {},
   "outputs": [
    {
     "data": {
      "text/html": [
       "<div>\n",
       "<style>\n",
       "    .dataframe thead tr:only-child th {\n",
       "        text-align: right;\n",
       "    }\n",
       "\n",
       "    .dataframe thead th {\n",
       "        text-align: left;\n",
       "    }\n",
       "\n",
       "    .dataframe tbody tr th {\n",
       "        vertical-align: top;\n",
       "    }\n",
       "</style>\n",
       "<table border=\"1\" class=\"dataframe\">\n",
       "  <thead>\n",
       "    <tr style=\"text-align: right;\">\n",
       "      <th></th>\n",
       "      <th>Cst_Cnt</th>\n",
       "      <th>Btl_Cnt</th>\n",
       "      <th>Depthm</th>\n",
       "      <th>T_degC</th>\n",
       "      <th>Salnty</th>\n",
       "      <th>O2ml_L</th>\n",
       "      <th>STheta</th>\n",
       "      <th>O2Sat</th>\n",
       "      <th>Oxy_µmol/Kg</th>\n",
       "      <th>BtlNum</th>\n",
       "      <th>...</th>\n",
       "      <th>R_CHLA</th>\n",
       "      <th>R_PHAEO</th>\n",
       "      <th>R_PRES</th>\n",
       "      <th>R_SAMP</th>\n",
       "      <th>DIC1</th>\n",
       "      <th>DIC2</th>\n",
       "      <th>TA1</th>\n",
       "      <th>TA2</th>\n",
       "      <th>pH2</th>\n",
       "      <th>pH1</th>\n",
       "    </tr>\n",
       "  </thead>\n",
       "  <tbody>\n",
       "    <tr>\n",
       "      <th>Cst_Cnt</th>\n",
       "      <td>1.000000</td>\n",
       "      <td>0.999345</td>\n",
       "      <td>NaN</td>\n",
       "      <td>NaN</td>\n",
       "      <td>NaN</td>\n",
       "      <td>NaN</td>\n",
       "      <td>NaN</td>\n",
       "      <td>NaN</td>\n",
       "      <td>NaN</td>\n",
       "      <td>NaN</td>\n",
       "      <td>...</td>\n",
       "      <td>NaN</td>\n",
       "      <td>NaN</td>\n",
       "      <td>NaN</td>\n",
       "      <td>0.604945</td>\n",
       "      <td>NaN</td>\n",
       "      <td>NaN</td>\n",
       "      <td>NaN</td>\n",
       "      <td>NaN</td>\n",
       "      <td>NaN</td>\n",
       "      <td>NaN</td>\n",
       "    </tr>\n",
       "    <tr>\n",
       "      <th>Btl_Cnt</th>\n",
       "      <td>0.999345</td>\n",
       "      <td>1.000000</td>\n",
       "      <td>NaN</td>\n",
       "      <td>NaN</td>\n",
       "      <td>NaN</td>\n",
       "      <td>NaN</td>\n",
       "      <td>NaN</td>\n",
       "      <td>NaN</td>\n",
       "      <td>NaN</td>\n",
       "      <td>NaN</td>\n",
       "      <td>...</td>\n",
       "      <td>NaN</td>\n",
       "      <td>NaN</td>\n",
       "      <td>NaN</td>\n",
       "      <td>0.595142</td>\n",
       "      <td>NaN</td>\n",
       "      <td>NaN</td>\n",
       "      <td>NaN</td>\n",
       "      <td>NaN</td>\n",
       "      <td>NaN</td>\n",
       "      <td>NaN</td>\n",
       "    </tr>\n",
       "    <tr>\n",
       "      <th>Depthm</th>\n",
       "      <td>NaN</td>\n",
       "      <td>NaN</td>\n",
       "      <td>1.000000</td>\n",
       "      <td>0.681201</td>\n",
       "      <td>0.572630</td>\n",
       "      <td>0.592399</td>\n",
       "      <td>0.582710</td>\n",
       "      <td>0.595547</td>\n",
       "      <td>0.589175</td>\n",
       "      <td>0.681935</td>\n",
       "      <td>...</td>\n",
       "      <td>NaN</td>\n",
       "      <td>NaN</td>\n",
       "      <td>0.999994</td>\n",
       "      <td>NaN</td>\n",
       "      <td>0.567855</td>\n",
       "      <td>0.572374</td>\n",
       "      <td>0.786873</td>\n",
       "      <td>0.866185</td>\n",
       "      <td>NaN</td>\n",
       "      <td>0.611798</td>\n",
       "    </tr>\n",
       "    <tr>\n",
       "      <th>T_degC</th>\n",
       "      <td>NaN</td>\n",
       "      <td>NaN</td>\n",
       "      <td>0.681201</td>\n",
       "      <td>1.000000</td>\n",
       "      <td>0.505266</td>\n",
       "      <td>0.795700</td>\n",
       "      <td>0.829155</td>\n",
       "      <td>0.850596</td>\n",
       "      <td>0.795543</td>\n",
       "      <td>0.750413</td>\n",
       "      <td>...</td>\n",
       "      <td>NaN</td>\n",
       "      <td>NaN</td>\n",
       "      <td>0.679852</td>\n",
       "      <td>NaN</td>\n",
       "      <td>0.936239</td>\n",
       "      <td>0.949972</td>\n",
       "      <td>0.742196</td>\n",
       "      <td>0.889635</td>\n",
       "      <td>0.547436</td>\n",
       "      <td>0.743735</td>\n",
       "    </tr>\n",
       "    <tr>\n",
       "      <th>Salnty</th>\n",
       "      <td>NaN</td>\n",
       "      <td>NaN</td>\n",
       "      <td>0.572630</td>\n",
       "      <td>0.505266</td>\n",
       "      <td>1.000000</td>\n",
       "      <td>0.823870</td>\n",
       "      <td>0.603470</td>\n",
       "      <td>0.790231</td>\n",
       "      <td>0.824338</td>\n",
       "      <td>0.693341</td>\n",
       "      <td>...</td>\n",
       "      <td>NaN</td>\n",
       "      <td>NaN</td>\n",
       "      <td>0.571405</td>\n",
       "      <td>NaN</td>\n",
       "      <td>0.938153</td>\n",
       "      <td>0.955942</td>\n",
       "      <td>0.895124</td>\n",
       "      <td>0.937147</td>\n",
       "      <td>0.583807</td>\n",
       "      <td>NaN</td>\n",
       "    </tr>\n",
       "  </tbody>\n",
       "</table>\n",
       "<p>5 rows × 70 columns</p>\n",
       "</div>"
      ],
      "text/plain": [
       "          Cst_Cnt   Btl_Cnt    Depthm    T_degC    Salnty    O2ml_L    STheta  \\\n",
       "Cst_Cnt  1.000000  0.999345       NaN       NaN       NaN       NaN       NaN   \n",
       "Btl_Cnt  0.999345  1.000000       NaN       NaN       NaN       NaN       NaN   \n",
       "Depthm        NaN       NaN  1.000000  0.681201  0.572630  0.592399  0.582710   \n",
       "T_degC        NaN       NaN  0.681201  1.000000  0.505266  0.795700  0.829155   \n",
       "Salnty        NaN       NaN  0.572630  0.505266  1.000000  0.823870  0.603470   \n",
       "\n",
       "            O2Sat  Oxy_µmol/Kg    BtlNum    ...     R_CHLA  R_PHAEO    R_PRES  \\\n",
       "Cst_Cnt       NaN          NaN       NaN    ...        NaN      NaN       NaN   \n",
       "Btl_Cnt       NaN          NaN       NaN    ...        NaN      NaN       NaN   \n",
       "Depthm   0.595547     0.589175  0.681935    ...        NaN      NaN  0.999994   \n",
       "T_degC   0.850596     0.795543  0.750413    ...        NaN      NaN  0.679852   \n",
       "Salnty   0.790231     0.824338  0.693341    ...        NaN      NaN  0.571405   \n",
       "\n",
       "           R_SAMP      DIC1      DIC2       TA1       TA2       pH2       pH1  \n",
       "Cst_Cnt  0.604945       NaN       NaN       NaN       NaN       NaN       NaN  \n",
       "Btl_Cnt  0.595142       NaN       NaN       NaN       NaN       NaN       NaN  \n",
       "Depthm        NaN  0.567855  0.572374  0.786873  0.866185       NaN  0.611798  \n",
       "T_degC        NaN  0.936239  0.949972  0.742196  0.889635  0.547436  0.743735  \n",
       "Salnty        NaN  0.938153  0.955942  0.895124  0.937147  0.583807       NaN  \n",
       "\n",
       "[5 rows x 70 columns]"
      ]
     },
     "execution_count": 35,
     "metadata": {},
     "output_type": "execute_result"
    }
   ],
   "source": [
    "df2.head()"
   ]
  },
  {
   "cell_type": "code",
   "execution_count": 22,
   "metadata": {},
   "outputs": [
    {
     "data": {
      "text/plain": [
       "array([ nan])"
      ]
     },
     "execution_count": 22,
     "metadata": {},
     "output_type": "execute_result"
    }
   ],
   "source": [
    "ex = pd.DataFrame(df2.iloc[3])\n",
    "ex.iloc[0].values"
   ]
  },
  {
   "cell_type": "code",
   "execution_count": 61,
   "metadata": {},
   "outputs": [
    {
     "name": "stdout",
     "output_type": "stream",
     "text": [
      "['Depthm', 'T_degC', 'Salnty', 'O2ml_L', 'STheta', 'O2Sat', 'Oxy_µmol/Kg', 'BtlNum', 'PO4uM', 'SiO3uM', 'NO3uM', 'R_Depth', 'R_TEMP', 'R_POTEMP', 'R_SALINITY', 'R_SIGMA', 'R_SVA', 'R_DYNHT', 'R_O2', 'R_O2Sat', 'R_SIO3', 'R_PO4', 'R_NO3', 'R_PRES', 'DIC1', 'DIC2', 'TA1', 'TA2', 'pH2', 'pH1']\n"
     ]
    },
    {
     "name": "stderr",
     "output_type": "stream",
     "text": [
      "C:\\Users\\KOUSHIK\\Anaconda3\\lib\\site-packages\\ipykernel_launcher.py:4: RuntimeWarning: invalid value encountered in greater_equal\n",
      "  after removing the cwd from sys.path.\n"
     ]
    }
   ],
   "source": [
    "list1 = []\n",
    "dummy = []\n",
    "for i in range(len(ex)):\n",
    "    if ex.iloc[i].values >= 0.5:\n",
    "        list1.append(ex.index[i])\n",
    "        dummy.append(ex.index[i])\n",
    "print(list1)"
   ]
  },
  {
   "cell_type": "code",
   "execution_count": 62,
   "metadata": {
    "collapsed": true
   },
   "outputs": [],
   "source": [
    "final_df = pd.read_csv('bottle.csv', usecols = list1)"
   ]
  },
  {
   "cell_type": "code",
   "execution_count": 63,
   "metadata": {},
   "outputs": [
    {
     "data": {
      "text/plain": [
       "(864863, 30)"
      ]
     },
     "execution_count": 63,
     "metadata": {},
     "output_type": "execute_result"
    }
   ],
   "source": [
    "final_df.shape"
   ]
  },
  {
   "cell_type": "code",
   "execution_count": 64,
   "metadata": {},
   "outputs": [
    {
     "data": {
      "text/plain": [
       "0    10.50\n",
       "1    10.46\n",
       "2    10.46\n",
       "3    10.45\n",
       "4    10.45\n",
       "Name: T_degC, dtype: float64"
      ]
     },
     "execution_count": 64,
     "metadata": {},
     "output_type": "execute_result"
    }
   ],
   "source": [
    "y = final_df['T_degC']\n",
    "y.head()"
   ]
  },
  {
   "cell_type": "code",
   "execution_count": 65,
   "metadata": {},
   "outputs": [
    {
     "name": "stdout",
     "output_type": "stream",
     "text": [
      "['Depthm', 'Salnty', 'O2ml_L', 'STheta', 'O2Sat', 'Oxy_µmol/Kg', 'BtlNum', 'PO4uM', 'SiO3uM', 'NO3uM', 'R_Depth', 'R_TEMP', 'R_POTEMP', 'R_SALINITY', 'R_SIGMA', 'R_SVA', 'R_DYNHT', 'R_O2', 'R_O2Sat', 'R_SIO3', 'R_PO4', 'R_NO3', 'R_PRES', 'DIC1', 'DIC2', 'TA1', 'TA2', 'pH2', 'pH1']\n"
     ]
    }
   ],
   "source": [
    "dummy.remove('T_degC')\n",
    "#dummy.remove('Salnty')\n",
    "print(dummy)"
   ]
  },
  {
   "cell_type": "code",
   "execution_count": 54,
   "metadata": {},
   "outputs": [
    {
     "data": {
      "text/html": [
       "<div>\n",
       "<style>\n",
       "    .dataframe thead tr:only-child th {\n",
       "        text-align: right;\n",
       "    }\n",
       "\n",
       "    .dataframe thead th {\n",
       "        text-align: left;\n",
       "    }\n",
       "\n",
       "    .dataframe tbody tr th {\n",
       "        vertical-align: top;\n",
       "    }\n",
       "</style>\n",
       "<table border=\"1\" class=\"dataframe\">\n",
       "  <thead>\n",
       "    <tr style=\"text-align: right;\">\n",
       "      <th></th>\n",
       "      <th>Depthm</th>\n",
       "      <th>Salnty</th>\n",
       "      <th>O2ml_L</th>\n",
       "      <th>STheta</th>\n",
       "      <th>O2Sat</th>\n",
       "      <th>Oxy_µmol/Kg</th>\n",
       "      <th>BtlNum</th>\n",
       "      <th>PO4uM</th>\n",
       "      <th>SiO3uM</th>\n",
       "      <th>NO3uM</th>\n",
       "      <th>...</th>\n",
       "      <th>R_SIO3</th>\n",
       "      <th>R_PO4</th>\n",
       "      <th>R_NO3</th>\n",
       "      <th>R_PRES</th>\n",
       "      <th>DIC1</th>\n",
       "      <th>DIC2</th>\n",
       "      <th>TA1</th>\n",
       "      <th>TA2</th>\n",
       "      <th>pH2</th>\n",
       "      <th>pH1</th>\n",
       "    </tr>\n",
       "  </thead>\n",
       "  <tbody>\n",
       "    <tr>\n",
       "      <th>0</th>\n",
       "      <td>0</td>\n",
       "      <td>33.440</td>\n",
       "      <td>NaN</td>\n",
       "      <td>25.649</td>\n",
       "      <td>NaN</td>\n",
       "      <td>NaN</td>\n",
       "      <td>NaN</td>\n",
       "      <td>NaN</td>\n",
       "      <td>NaN</td>\n",
       "      <td>NaN</td>\n",
       "      <td>...</td>\n",
       "      <td>NaN</td>\n",
       "      <td>NaN</td>\n",
       "      <td>NaN</td>\n",
       "      <td>0</td>\n",
       "      <td>NaN</td>\n",
       "      <td>NaN</td>\n",
       "      <td>NaN</td>\n",
       "      <td>NaN</td>\n",
       "      <td>NaN</td>\n",
       "      <td>NaN</td>\n",
       "    </tr>\n",
       "    <tr>\n",
       "      <th>1</th>\n",
       "      <td>8</td>\n",
       "      <td>33.440</td>\n",
       "      <td>NaN</td>\n",
       "      <td>25.656</td>\n",
       "      <td>NaN</td>\n",
       "      <td>NaN</td>\n",
       "      <td>NaN</td>\n",
       "      <td>NaN</td>\n",
       "      <td>NaN</td>\n",
       "      <td>NaN</td>\n",
       "      <td>...</td>\n",
       "      <td>NaN</td>\n",
       "      <td>NaN</td>\n",
       "      <td>NaN</td>\n",
       "      <td>8</td>\n",
       "      <td>NaN</td>\n",
       "      <td>NaN</td>\n",
       "      <td>NaN</td>\n",
       "      <td>NaN</td>\n",
       "      <td>NaN</td>\n",
       "      <td>NaN</td>\n",
       "    </tr>\n",
       "    <tr>\n",
       "      <th>2</th>\n",
       "      <td>10</td>\n",
       "      <td>33.437</td>\n",
       "      <td>NaN</td>\n",
       "      <td>25.654</td>\n",
       "      <td>NaN</td>\n",
       "      <td>NaN</td>\n",
       "      <td>NaN</td>\n",
       "      <td>NaN</td>\n",
       "      <td>NaN</td>\n",
       "      <td>NaN</td>\n",
       "      <td>...</td>\n",
       "      <td>NaN</td>\n",
       "      <td>NaN</td>\n",
       "      <td>NaN</td>\n",
       "      <td>10</td>\n",
       "      <td>NaN</td>\n",
       "      <td>NaN</td>\n",
       "      <td>NaN</td>\n",
       "      <td>NaN</td>\n",
       "      <td>NaN</td>\n",
       "      <td>NaN</td>\n",
       "    </tr>\n",
       "    <tr>\n",
       "      <th>3</th>\n",
       "      <td>19</td>\n",
       "      <td>33.420</td>\n",
       "      <td>NaN</td>\n",
       "      <td>25.643</td>\n",
       "      <td>NaN</td>\n",
       "      <td>NaN</td>\n",
       "      <td>NaN</td>\n",
       "      <td>NaN</td>\n",
       "      <td>NaN</td>\n",
       "      <td>NaN</td>\n",
       "      <td>...</td>\n",
       "      <td>NaN</td>\n",
       "      <td>NaN</td>\n",
       "      <td>NaN</td>\n",
       "      <td>19</td>\n",
       "      <td>NaN</td>\n",
       "      <td>NaN</td>\n",
       "      <td>NaN</td>\n",
       "      <td>NaN</td>\n",
       "      <td>NaN</td>\n",
       "      <td>NaN</td>\n",
       "    </tr>\n",
       "    <tr>\n",
       "      <th>4</th>\n",
       "      <td>20</td>\n",
       "      <td>33.421</td>\n",
       "      <td>NaN</td>\n",
       "      <td>25.643</td>\n",
       "      <td>NaN</td>\n",
       "      <td>NaN</td>\n",
       "      <td>NaN</td>\n",
       "      <td>NaN</td>\n",
       "      <td>NaN</td>\n",
       "      <td>NaN</td>\n",
       "      <td>...</td>\n",
       "      <td>NaN</td>\n",
       "      <td>NaN</td>\n",
       "      <td>NaN</td>\n",
       "      <td>20</td>\n",
       "      <td>NaN</td>\n",
       "      <td>NaN</td>\n",
       "      <td>NaN</td>\n",
       "      <td>NaN</td>\n",
       "      <td>NaN</td>\n",
       "      <td>NaN</td>\n",
       "    </tr>\n",
       "  </tbody>\n",
       "</table>\n",
       "<p>5 rows × 29 columns</p>\n",
       "</div>"
      ],
      "text/plain": [
       "   Depthm  Salnty  O2ml_L  STheta  O2Sat  Oxy_µmol/Kg  BtlNum  PO4uM  SiO3uM  \\\n",
       "0       0  33.440     NaN  25.649    NaN          NaN     NaN    NaN     NaN   \n",
       "1       8  33.440     NaN  25.656    NaN          NaN     NaN    NaN     NaN   \n",
       "2      10  33.437     NaN  25.654    NaN          NaN     NaN    NaN     NaN   \n",
       "3      19  33.420     NaN  25.643    NaN          NaN     NaN    NaN     NaN   \n",
       "4      20  33.421     NaN  25.643    NaN          NaN     NaN    NaN     NaN   \n",
       "\n",
       "   NO3uM ...   R_SIO3  R_PO4  R_NO3  R_PRES  DIC1  DIC2  TA1  TA2  pH2  pH1  \n",
       "0    NaN ...      NaN    NaN    NaN       0   NaN   NaN  NaN  NaN  NaN  NaN  \n",
       "1    NaN ...      NaN    NaN    NaN       8   NaN   NaN  NaN  NaN  NaN  NaN  \n",
       "2    NaN ...      NaN    NaN    NaN      10   NaN   NaN  NaN  NaN  NaN  NaN  \n",
       "3    NaN ...      NaN    NaN    NaN      19   NaN   NaN  NaN  NaN  NaN  NaN  \n",
       "4    NaN ...      NaN    NaN    NaN      20   NaN   NaN  NaN  NaN  NaN  NaN  \n",
       "\n",
       "[5 rows x 29 columns]"
      ]
     },
     "execution_count": 54,
     "metadata": {},
     "output_type": "execute_result"
    }
   ],
   "source": [
    "x = final_df[dummy]\n",
    "x.head()"
   ]
  },
  {
   "cell_type": "code",
   "execution_count": 55,
   "metadata": {},
   "outputs": [
    {
     "data": {
      "text/plain": [
       "(864863,)"
      ]
     },
     "execution_count": 55,
     "metadata": {},
     "output_type": "execute_result"
    }
   ],
   "source": [
    "y.shape"
   ]
  },
  {
   "cell_type": "code",
   "execution_count": 56,
   "metadata": {},
   "outputs": [
    {
     "data": {
      "text/plain": [
       "(864863, 29)"
      ]
     },
     "execution_count": 56,
     "metadata": {},
     "output_type": "execute_result"
    }
   ],
   "source": [
    "x.shape"
   ]
  },
  {
   "cell_type": "code",
   "execution_count": 57,
   "metadata": {},
   "outputs": [
    {
     "name": "stderr",
     "output_type": "stream",
     "text": [
      "C:\\Users\\KOUSHIK\\Anaconda3\\lib\\site-packages\\pandas\\core\\generic.py:3660: SettingWithCopyWarning: \n",
      "A value is trying to be set on a copy of a slice from a DataFrame\n",
      "\n",
      "See the caveats in the documentation: http://pandas.pydata.org/pandas-docs/stable/indexing.html#indexing-view-versus-copy\n",
      "  self._update_inplace(new_data)\n"
     ]
    }
   ],
   "source": [
    "from sklearn.cross_validation import train_test_split\n",
    "\n",
    "x_train, x_test, y_train, y_test = train_test_split(x,y, test_size=0.20, random_state = 0)\n",
    "\n",
    "x_train.fillna(x_train.mean(), inplace=True)\n",
    "x_test.fillna(x_test.mean(), inplace=True)\n",
    "y_train.fillna(y_train.mean(), inplace=True)\n",
    "y_test.fillna(y_test.mean(), inplace=True)"
   ]
  },
  {
   "cell_type": "code",
   "execution_count": 58,
   "metadata": {},
   "outputs": [
    {
     "data": {
      "text/plain": [
       "LinearRegression(copy_X=True, fit_intercept=True, n_jobs=1, normalize=False)"
      ]
     },
     "execution_count": 58,
     "metadata": {},
     "output_type": "execute_result"
    }
   ],
   "source": [
    "from sklearn.linear_model import LinearRegression\n",
    "\n",
    "reg = LinearRegression()\n",
    "reg.fit(x_train,y_train)"
   ]
  },
  {
   "cell_type": "code",
   "execution_count": 59,
   "metadata": {
    "collapsed": true
   },
   "outputs": [],
   "source": [
    "pred = reg.predict(x_test)"
   ]
  },
  {
   "cell_type": "code",
   "execution_count": 60,
   "metadata": {},
   "outputs": [
    {
     "name": "stdout",
     "output_type": "stream",
     "text": [
      "0.999999967116\n"
     ]
    }
   ],
   "source": [
    "score = reg.score(x_test, y_test)\n",
    "print(score)"
   ]
  },
  {
   "cell_type": "code",
   "execution_count": null,
   "metadata": {
    "collapsed": true
   },
   "outputs": [],
   "source": []
  }
 ],
 "metadata": {
  "kernelspec": {
   "display_name": "Python 3",
   "language": "python",
   "name": "python3"
  },
  "language_info": {
   "codemirror_mode": {
    "name": "ipython",
    "version": 3
   },
   "file_extension": ".py",
   "mimetype": "text/x-python",
   "name": "python",
   "nbconvert_exporter": "python",
   "pygments_lexer": "ipython3",
   "version": "3.7.4"
  }
 },
 "nbformat": 4,
 "nbformat_minor": 2
}
